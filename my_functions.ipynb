{
 "cells": [
  {
   "cell_type": "markdown",
   "metadata": {},
   "source": [
    "# Function script\n",
    "This script contains function definitions that are used in multiple scripts. "
   ]
  },
  {
   "cell_type": "code",
   "execution_count": 5,
   "metadata": {},
   "outputs": [],
   "source": [
    "import numpy as np\n"
   ]
  },
  {
   "cell_type": "code",
   "execution_count": 3,
   "metadata": {},
   "outputs": [],
   "source": [
    "def f(x, alpha):\n",
    "    \"\"\"\n",
    "    Define the conformity function. \n",
    "    x = dependent variable, proportion of people favoring X in whole group \n",
    "    alpha = shape parameter. \n",
    "    alpha >1 -> s-shape\n",
    "    alpha <1 -> inverse s-shape\n",
    "    alpha = 1 -> linear\n",
    "    \"\"\"\n",
    "    \n",
    "    if (x>=0 and x<=0.5):  # branch between 0 and 0.5. \n",
    "        y = (2*x)**alpha/2\n",
    "    elif (x>0.5 and x <=1): # branch between 0.5 and 1. \n",
    "        y = 1 - (2*(1-x))**alpha/2\n",
    "    else:\n",
    "        y = 0\n",
    "    return y"
   ]
  },
  {
   "cell_type": "code",
   "execution_count": 1,
   "metadata": {},
   "outputs": [],
   "source": [
    "def checkConverge(xList, tol = 0.005, window = 30, min_length_padding = 10): \n",
    "    \"\"\"\n",
    "    Check whether the simulation has converged. \n",
    "    xList is a series of x values, portion of people with opinion X. \n",
    "    The convergence critiria is for the time series of x in the last window size, `window` to have a standard deviation below a tolerance threshold set by `tol`\n",
    "    Returns flag `converge` (1 = simulation converged); `avg`, average value of x in the window size; and `astd`, the standard deviation of the series in the window size. \n",
    "    \n",
    "    \"\"\"\n",
    "    minLength = window + min_length_padding\n",
    "    if len(xList) > minLength: # check if series is longer than mininum length  \n",
    "        L = len(xList) \n",
    "        \n",
    "        idxLeft = L-window # get the index where the window starts\n",
    "        \n",
    "        xSubList = xList[idxLeft:]  # get the series in the window\n",
    "        astd = np.std(xSubList)     # compute the standard deviatioon in the window. \n",
    "        \n",
    "        if astd < tol:              # if standard deviation smaller than tol, then simulation converged. \n",
    "            converge = 1\n",
    "            avg = np.mean(xSubList)\n",
    "        else:                       # otherwise did not converge\n",
    "            converge = 0 \n",
    "            avg = np.nan            \n",
    "    else:                          # if series is too short, then consider not converged. \n",
    "        astd = np.nan\n",
    "        converge = 0\n",
    "        avg = np.nan\n",
    "    \n",
    "    return converge, avg, astd\n",
    "\n"
   ]
  },
  {
   "cell_type": "code",
   "execution_count": null,
   "metadata": {},
   "outputs": [],
   "source": []
  }
 ],
 "metadata": {
  "kernelspec": {
   "display_name": "Python 3",
   "language": "python",
   "name": "python3"
  },
  "language_info": {
   "codemirror_mode": {
    "name": "ipython",
    "version": 3
   },
   "file_extension": ".py",
   "mimetype": "text/x-python",
   "name": "python",
   "nbconvert_exporter": "python",
   "pygments_lexer": "ipython3",
   "version": "3.7.6"
  }
 },
 "nbformat": 4,
 "nbformat_minor": 4
}
